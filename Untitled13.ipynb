{
  "nbformat": 4,
  "nbformat_minor": 0,
  "metadata": {
    "colab": {
      "provenance": []
    },
    "kernelspec": {
      "name": "python3",
      "display_name": "Python 3"
    },
    "language_info": {
      "name": "python"
    }
  },
  "cells": [
    {
      "cell_type": "markdown",
      "source": [
        "Guía de trabajo N°1"
      ],
      "metadata": {
        "id": "fuviO1HR3X9f"
      }
    },
    {
      "cell_type": "code",
      "source": [
        "import numpy as np\n",
        "import matplotlib.pyplot as plt\n",
        "import pandas as pd\n"
      ],
      "metadata": {
        "id": "WenNSV8CxSNU"
      },
      "execution_count": 29,
      "outputs": []
    },
    {
      "cell_type": "markdown",
      "source": [
        "Ejercicio 1: Diagnóstico Python (operaciones básicas con arreglos)"
      ],
      "metadata": {
        "id": "sLViJq7oxIlc"
      }
    },
    {
      "cell_type": "code",
      "execution_count": 9,
      "metadata": {
        "colab": {
          "base_uri": "https://localhost:8080/"
        },
        "id": "eyCYRGSxv_VT",
        "outputId": "9b68f795-a4ab-4488-ae78-522d13a17eca"
      },
      "outputs": [
        {
          "output_type": "stream",
          "name": "stdout",
          "text": [
            "[  2   4   6   8  10  12  14  16  18  20  22  24  26  28  30  32  34  36\n",
            "  38  40  42  44  46  48  50  52  54  56  58  60  62  64  66  68  70  72\n",
            "  74  76  78  80  82  84  86  88  90  92  94  96  98 100 102]\n"
          ]
        }
      ],
      "source": [
        "#a) Usando numpy, crear los siguientes arreglos de datos:\n",
        "#A =[números pares entre 2 y 103] :\n",
        "A = np.arange(2,104,2)\n",
        "print(A)\n",
        "\n"
      ]
    },
    {
      "cell_type": "code",
      "source": [
        "#B =[números primos entre 1 y 55]\n",
        "\n",
        "b = []\n",
        "for num in range(2,56):\n",
        "  is_prime = True\n",
        "  for i in range(2,num):\n",
        "    if num % i == 0:\n",
        "      is_prime = False\n",
        "      break\n",
        "  if is_prime:\n",
        "    b.append(num)\n",
        "print(b)\n"
      ],
      "metadata": {
        "colab": {
          "base_uri": "https://localhost:8080/"
        },
        "id": "kCUIxq3kx3z1",
        "outputId": "6b296029-f1a6-4c26-e7b1-6ffc763f8280"
      },
      "execution_count": 8,
      "outputs": [
        {
          "output_type": "stream",
          "name": "stdout",
          "text": [
            "[2, 3, 5, 7, 11, 13, 17, 19, 23, 29, 31, 37, 41, 43, 47, 53]\n"
          ]
        }
      ]
    },
    {
      "cell_type": "markdown",
      "source": [
        "b) Crear un nuevo arreglo C = (2 ∗ A) + B e imprimir resultado."
      ],
      "metadata": {
        "id": "jANG3f6Ay8qb"
      }
    },
    {
      "cell_type": "code",
      "source": [
        "b = np.array(b)\n",
        "B =  np.tile(b, len(A) // len(b)+1)[:len(A)]\n",
        "\n",
        "C = (2*A) + B\n",
        "print(C)"
      ],
      "metadata": {
        "colab": {
          "base_uri": "https://localhost:8080/"
        },
        "id": "yIZH7uVRyn5U",
        "outputId": "f1a6e2b5-3cdd-4bd1-f60e-9913e0621b4d"
      },
      "execution_count": 13,
      "outputs": [
        {
          "output_type": "stream",
          "name": "stdout",
          "text": [
            "[  6  11  17  23  31  37  45  51  59  69  75  85  93  99 107 117  70  75\n",
            "  81  87  95 101 109 115 123 133 139 149 157 163 171 181 134 139 145 151\n",
            " 159 165 173 179 187 197 203 213 221 227 235 245 198 203 209]\n"
          ]
        }
      ]
    },
    {
      "cell_type": "markdown",
      "source": [
        "c) Crear un nuevo arreglo con 2 dimensiones cuya primera columna corresponda a la suma de los elementos de A y B, mientras que la segunda columna sea el resultado de la sustracción de los elementos de A y B."
      ],
      "metadata": {
        "id": "zCnWt5Pp0EW8"
      }
    },
    {
      "cell_type": "code",
      "source": [
        "H = np.column_stack((A + B, A - B))\n",
        "\n",
        "\n",
        "print(H)"
      ],
      "metadata": {
        "colab": {
          "base_uri": "https://localhost:8080/"
        },
        "id": "c72jmNrJzAlx",
        "outputId": "1a8ced8e-f455-497c-861f-0e0df4870029"
      },
      "execution_count": 24,
      "outputs": [
        {
          "output_type": "stream",
          "name": "stdout",
          "text": [
            "[[  4   0]\n",
            " [  7   1]\n",
            " [ 11   1]\n",
            " [ 15   1]\n",
            " [ 21  -1]\n",
            " [ 25  -1]\n",
            " [ 31  -3]\n",
            " [ 35  -3]\n",
            " [ 41  -5]\n",
            " [ 49  -9]\n",
            " [ 53  -9]\n",
            " [ 61 -13]\n",
            " [ 67 -15]\n",
            " [ 71 -15]\n",
            " [ 77 -17]\n",
            " [ 85 -21]\n",
            " [ 36  32]\n",
            " [ 39  33]\n",
            " [ 43  33]\n",
            " [ 47  33]\n",
            " [ 53  31]\n",
            " [ 57  31]\n",
            " [ 63  29]\n",
            " [ 67  29]\n",
            " [ 73  27]\n",
            " [ 81  23]\n",
            " [ 85  23]\n",
            " [ 93  19]\n",
            " [ 99  17]\n",
            " [103  17]\n",
            " [109  15]\n",
            " [117  11]\n",
            " [ 68  64]\n",
            " [ 71  65]\n",
            " [ 75  65]\n",
            " [ 79  65]\n",
            " [ 85  63]\n",
            " [ 89  63]\n",
            " [ 95  61]\n",
            " [ 99  61]\n",
            " [105  59]\n",
            " [113  55]\n",
            " [117  55]\n",
            " [125  51]\n",
            " [131  49]\n",
            " [135  49]\n",
            " [141  47]\n",
            " [149  43]\n",
            " [100  96]\n",
            " [103  97]\n",
            " [107  97]]\n"
          ]
        }
      ]
    },
    {
      "cell_type": "markdown",
      "source": [
        "d) Aplique una condición para generar un nuevo arreglo con los elementos de A mayores que 8 y donde en B sean mayores que 20."
      ],
      "metadata": {
        "id": "9KpaVekF2PP6"
      }
    },
    {
      "cell_type": "code",
      "source": [
        "I = A[A > 8]\n",
        "print(I)"
      ],
      "metadata": {
        "colab": {
          "base_uri": "https://localhost:8080/"
        },
        "id": "vJkVZUfj0N37",
        "outputId": "cef24a7d-95e1-42af-8071-f8747b037c17"
      },
      "execution_count": 27,
      "outputs": [
        {
          "output_type": "stream",
          "name": "stdout",
          "text": [
            "[ 10  12  14  16  18  20  22  24  26  28  30  32  34  36  38  40  42  44\n",
            "  46  48  50  52  54  56  58  60  62  64  66  68  70  72  74  76  78  80\n",
            "  82  84  86  88  90  92  94  96  98 100 102]\n"
          ]
        }
      ]
    },
    {
      "cell_type": "code",
      "source": [
        "J = B[B > 20]\n",
        "print(J)"
      ],
      "metadata": {
        "colab": {
          "base_uri": "https://localhost:8080/"
        },
        "id": "4cOsrJy42ifq",
        "outputId": "e30e5fa2-2d8a-4a1d-c725-cd11e6df9259"
      },
      "execution_count": 28,
      "outputs": [
        {
          "output_type": "stream",
          "name": "stdout",
          "text": [
            "[23 29 31 37 41 43 47 53 23 29 31 37 41 43 47 53 23 29 31 37 41 43 47 53]\n"
          ]
        }
      ]
    },
    {
      "cell_type": "markdown",
      "source": [
        "\n",
        "Ejercicio 2: Estimación del valor del número Pi."
      ],
      "metadata": {
        "id": "1yloyU4z3V5g"
      }
    },
    {
      "cell_type": "markdown",
      "source": [
        "En este ejercicio calcularemos el valor del número Pi por medio de la comparación de las áreas de un cuadrado de lado L=2 y el área de un círculo inscrito de radio r=1. ¿Cómo funciona este método? Dejaremos caer puntos (muchos) aleatoriamente y uniformemente sobre la figura. Contaremos los puntos que caen dentro del círculo y los que caen dentro del cuadrado completo. La razón entre ambos números corresponde a la razón entre las áreas, pues:\n",
        "\n",
        "Área círculo/Área cuadrado = pi * r^2 / L * L = pi * r^2 / (2r) * (2r) =pi * r^2 / 4r^2 (dado que L = 2r) Luego, podemos ver que: Área círculo / Área cuadrado = pi / 4 En este caso, las áreas de las figuras se aproximan por el número de puntos que caen dentro de las respectivas figuras, por lo que podemos despejar el valor de pi tal que: Pi = 4 * N° puntos dentro del círculo / N° puntos dentro del cuadrado."
      ],
      "metadata": {
        "id": "d3ZaBZEK5AFL"
      }
    },
    {
      "cell_type": "code",
      "source": [
        "import random\n",
        "\n",
        "L = 2\n",
        "r = 1\n",
        "\n",
        "puntos = 1000\n",
        "\n",
        "en_el_circulo = 0\n",
        "\n"
      ],
      "metadata": {
        "id": "ZLykTZm63AsI"
      },
      "execution_count": null,
      "outputs": []
    }
  ]
}